{
 "cells": [
  {
   "cell_type": "markdown",
   "metadata": {},
   "source": [
    "(about_py)=\n",
    "\n",
    "# About Python\n",
    "\n",
    "> \\\"Python has gotten sufficiently weapons grade that we don't descend\n",
    "> into R anymore. Sorry, R people. I used to be one of you but we no\n",
    "> longer descend into R.\\\" -- Chris Wiggins\n",
    "\n",
    "## Overview\n",
    "\n",
    "\n",
    "In this lecture we will\n",
    "\n",
    "-   outline what Python is\n",
    "-   showcase some of its abilities\n",
    "-   compare it to some other languages.\n",
    "\n",
    "At this stage, it\\'s **not** our intention that you try to replicate all\n",
    "you see.\n",
    "\n",
    "We will work through what follows at a slow pace later in the lecture\n",
    "series.\n",
    "\n",
    "Our only objective for this lecture is to give you some feel of what\n",
    "Python is, and what it can do.\n",
    "\n",
    "## What\\'s Python?\n",
    "\n",
    "[Python](https://www.python.org) is a general-purpose programming\n",
    "language conceived in 1989 by Dutch programmer [Guido van\n",
    "Rossum](https://en.wikipedia.org/wiki/Guido_van_Rossum).\n",
    "\n",
    "Python is free and open source, with development coordinated through the\n",
    "[Python Software Foundation](https://www.python.org/psf/).\n",
    "\n",
    "Python has experienced rapid adoption in the last decade and is now one\n",
    "of the most popular programming languages.\n",
    "\n",
    "### Common Uses\n",
    "\n",
    "Python is a general-purpose language used in almost all application domains\n",
    "such as\n",
    "\n",
    "-   communications\n",
    "-   web development\n",
    "-   CGI and graphical user interfaces\n",
    "-   game development\n",
    "-   multimedia, data processing, security, etc., etc., etc.\n",
    "\n",
    "Used extensively by Internet services and high tech companies including\n",
    "\n",
    "-   [Google](https://www.google.com/)\n",
    "-   [Dropbox](https://www.dropbox.com/)\n",
    "-   [Reddit](https://www.reddit.com/)\n",
    "-   [YouTube](https://www.youtube.com/)\n",
    "-   [Walt Disney\n",
    "    Animation](https://pydanny-event-notes.readthedocs.org/en/latest/socalpiggies/20110526-wda.html).\n",
    "\n",
    "Python is very beginner-friendly and is often used to [teach computer\n",
    "science and\n",
    "programming](http://cacm.acm.org/blogs/blog-cacm/176450-python-is-now-the-most-popular-introductory-teaching-language-at-top-us-universities/fulltext).\n",
    "\n",
    "For reasons we will discuss, Python is particularly popular within the\n",
    "scientific community with users including NASA, CERN and practically all\n",
    "branches of academia.\n",
    "\n",
    "It is also [replacing familiar tools like\n",
    "Excel](https://news.efinancialcareers.com/us-en/3002556/python-replaced-excel-banking)\n",
    "in the fields of finance and banking.\n",
    "\n",
    "### Relative Popularity\n",
    "\n",
    "The following chart, produced using Stack Overflow Trends, shows one\n",
    "measure of the relative popularity of Python\n",
    "\n",
    "```{figure} /_static/lecture_specific/about_py/python_vs_matlab.png\n",
    ":scale: 72%\n",
    "```\n",
    "\n",
    "The figure indicates not only that Python is widely used but also that\n",
    "adoption of Python has accelerated significantly since 2012.\n",
    "\n",
    "We suspect this is driven at least in part by uptake in the scientific\n",
    "domain, particularly in rapidly growing fields like data science.\n",
    "\n",
    "For example, the popularity of [pandas](http://pandas.pydata.org/), a\n",
    "library for data analysis with Python has exploded, as seen here.\n",
    "\n",
    "(The corresponding time path for MATLAB is shown for comparison)\n",
    "\n",
    "```{figure} /_static/lecture_specific/about_py/pandas_vs_matlab.png\n",
    ":scale: 23%\n",
    "```\n",
    "\n",
    "Note that pandas takes off in 2012, which is the same year that we see\n",
    "Python\\'s popularity begin to spike in the first figure.\n",
    "\n",
    "Overall, it\\'s clear that\n",
    "\n",
    "-   Python is [one of the most popular programming languages\n",
    "    worldwide](http://spectrum.ieee.org/computing/software/the-2017-top-programming-languages).\n",
    "-   Python is a major tool for scientific computing, accounting for a\n",
    "    rapidly rising share of scientific work around the globe.\n",
    "\n",
    "### Features\n",
    "\n",
    "Python is a [high-level\n",
    "language](https://en.wikipedia.org/wiki/High-level_programming_language)\n",
    "suitable for rapid development.\n",
    "\n",
    "It has a relatively small core language supported by many libraries.\n",
    "\n",
    "Other features of Python:\n",
    "\n",
    "-   multiple programming styles are supported (procedural,\n",
    "    object-oriented, functional, etc.)\n",
    "-   it is interpreted rather than compiled.\n",
    "\n",
    "### Syntax and Design\n",
    "\n",
    "One nice feature of Python is its elegant syntax --- we\\'ll see many\n",
    "examples later on.\n",
    "\n",
    "Elegant code might sound superfluous but in fact it\\'s highly beneficial\n",
    "because it makes the syntax easy to read and easy to remember.\n",
    "\n",
    "Remembering how to read from files, sort dictionaries and other such\n",
    "routine tasks means that you don\\'t need to break your flow in order to\n",
    "hunt down correct syntax.\n",
    "\n",
    "Closely related to elegant syntax is an elegant design.\n",
    "\n",
    "Features like iterators, generators, decorators and list comprehensions\n",
    "make Python highly expressive, allowing you to get more done with less\n",
    "code.\n",
    "\n",
    "[Namespaces](https://en.wikipedia.org/wiki/Namespace) improve\n",
    "productivity by cutting down on bugs and syntax errors.\n",
    "\n",
    "## Scientific Programming\n",
    "\n",
    "Python has become one of the core languages of scientific computing.\n",
    "\n",
    "It\\'s either the dominant player or a major player in\n",
    "\n",
    "-   [machine learning and data science](http://scikit-learn.org/stable/)\n",
    "-   [astronomy](http://www.astropy.org/)\n",
    "-   [artificial\n",
    "    intelligence](https://wiki.python.org/moin/PythonForArtificialIntelligence)\n",
    "-   [chemistry](http://chemlab.github.io/chemlab/)\n",
    "-   [computational biology](http://biopython.org/wiki/Main_Page)\n",
    "-   [meteorology](https://pypi.org/project/meteorology/)\n",
    "\n",
    "Its popularity in economics is also beginning to rise.\n",
    "\n",
    "This section briefly showcases some examples of Python for scientific\n",
    "programming.\n",
    "\n",
    "-   All of these topics will be covered in detail later on.\n",
    "\n",
    "### Numerical Programming\n",
    "\n",
    "Fundamental matrix and array processing capabilities are provided by the\n",
    "excellent [NumPy](http://www.numpy.org/) library.\n",
    "\n",
    "NumPy provides the basic array data type plus some simple processing\n",
    "operations.\n",
    "\n",
    "For example, let\\'s build some arrays"
   ]
  },
  {
   "cell_type": "code",
   "execution_count": 1,
   "metadata": {},
   "outputs": [],
   "source": [
    "import numpy as np                     # Load the library\n",
    "\n",
    "a = np.linspace(-np.pi, np.pi, 100)    # Create even grid from -π to π\n",
    "b = np.cos(a)                          # Apply cosine to each element of a\n",
    "c = np.sin(a)                          # Apply sin to each element of a"
   ]
  },
  {
   "cell_type": "markdown",
   "metadata": {},
   "source": [
    "Now let\\'s take the inner product"
   ]
  },
  {
   "cell_type": "code",
   "execution_count": 2,
   "metadata": {},
   "outputs": [
    {
     "data": {
      "text/plain": [
       "4.04891256782214e-16"
      ]
     },
     "execution_count": 2,
     "metadata": {},
     "output_type": "execute_result"
    }
   ],
   "source": [
    "b @ c"
   ]
  },
  {
   "cell_type": "markdown",
   "metadata": {},
   "source": [
    "The number you see here might vary slightly but it\\'s essentially zero.\n",
    "\n",
    "(For older versions of Python and NumPy you need to use the\n",
    "[np.dot](http://docs.scipy.org/doc/numpy/reference/generated/numpy.dot.html)\n",
    "function)\n",
    "\n",
    "The [SciPy](http://www.scipy.org) library is built on top of NumPy and\n",
    "provides additional functionality.\n",
    "\n",
    "(tuple_unpacking_example)=\n",
    "For example, let\\'s calculate $\\int_{-2}^2 \\phi(z) dz$ where $\\phi$ is\n",
    "the standard normal density."
   ]
  },
  {
   "cell_type": "code",
   "execution_count": 3,
   "metadata": {},
   "outputs": [
    {
     "data": {
      "text/plain": [
       "0.9544997361036417"
      ]
     },
     "execution_count": 3,
     "metadata": {},
     "output_type": "execute_result"
    }
   ],
   "source": [
    "from scipy.stats import norm\n",
    "from scipy.integrate import quad\n",
    "\n",
    "ϕ = norm()\n",
    "value, error = quad(ϕ.pdf, -2, 2)  # Integrate using Gaussian quadrature\n",
    "value"
   ]
  },
  {
   "cell_type": "markdown",
   "metadata": {},
   "source": [
    "SciPy includes many of the standard routines used in\n",
    "\n",
    "-   [linear\n",
    "    algebra](http://docs.scipy.org/doc/scipy/reference/linalg.html)\n",
    "-   [integration](http://docs.scipy.org/doc/scipy/reference/integrate.html)\n",
    "-   [interpolation](http://docs.scipy.org/doc/scipy/reference/interpolate.html)\n",
    "-   [optimization](http://docs.scipy.org/doc/scipy/reference/optimize.html)\n",
    "-   [distributions and random number\n",
    "    generation](http://docs.scipy.org/doc/scipy/reference/stats.html)\n",
    "-   [signal\n",
    "    processing](http://docs.scipy.org/doc/scipy/reference/signal.html)\n",
    "\n",
    "See them all\n",
    "[here](http://docs.scipy.org/doc/scipy/reference/index.html).\n",
    "\n",
    "### Graphics\n",
    "\n",
    "The most popular and comprehensive Python library for creating figures\n",
    "and graphs is [Matplotlib](http://matplotlib.org/), with functionality\n",
    "including\n",
    "\n",
    "-   plots, histograms, contour images, 3D graphs, bar charts etc.\n",
    "-   output in many formats (PDF, PNG, EPS, etc.)\n",
    "-   LaTeX integration\n",
    "\n",
    "Example 2D plot with embedded LaTeX annotations\n",
    "\n",
    "```{figure} /_static/lecture_specific/about_py/qs.png\n",
    ":scale: 55%\n",
    "```\n",
    "\n",
    "Example contour plot\n",
    "\n",
    "```{figure} /_static/lecture_specific/about_py/bn_density1.png\n",
    ":scale: 55%\n",
    "```\n",
    "\n",
    "Example 3D plot\n",
    "\n",
    "```{figure} /_static/lecture_specific/about_py/career_vf.png\n",
    ":scale: 80%\n",
    "```\n",
    "\n",
    "More examples can be found in the [Matplotlib thumbnail\n",
    "gallery](http://matplotlib.org/gallery.html).\n",
    "\n",
    "Other graphics libraries include\n",
    "\n",
    "-   [Plotly](https://plot.ly/python/)\n",
    "-   [Bokeh](http://bokeh.pydata.org/en/latest/)\n",
    "-   [VPython](http://www.vpython.org/) --- 3D graphics and animations\n",
    "\n",
    "### Symbolic Algebra\n",
    "\n",
    "It\\'s useful to be able to manipulate symbolic expressions, as in\n",
    "Mathematica or Maple.\n",
    "\n",
    "The [SymPy](http://www.sympy.org/) library provides this functionality\n",
    "from within the Python shell."
   ]
  },
  {
   "cell_type": "code",
   "execution_count": 4,
   "metadata": {},
   "outputs": [
    {
     "data": {
      "text/latex": [
       "$\\displaystyle 3 x + y$"
      ],
      "text/plain": [
       "3*x + y"
      ]
     },
     "execution_count": 4,
     "metadata": {},
     "output_type": "execute_result"
    }
   ],
   "source": [
    "from sympy import Symbol\n",
    "\n",
    "x, y = Symbol('x'), Symbol('y')  # Treat 'x' and 'y' as algebraic symbols\n",
    "x + x + x + y"
   ]
  },
  {
   "cell_type": "markdown",
   "metadata": {},
   "source": [
    "We can manipulate expressions"
   ]
  },
  {
   "cell_type": "code",
   "execution_count": 5,
   "metadata": {},
   "outputs": [
    {
     "data": {
      "text/latex": [
       "$\\displaystyle x^{2} + 2 x y + y^{2}$"
      ],
      "text/plain": [
       "x**2 + 2*x*y + y**2"
      ]
     },
     "execution_count": 5,
     "metadata": {},
     "output_type": "execute_result"
    }
   ],
   "source": [
    "expression = (x + y)**2\n",
    "expression.expand()"
   ]
  },
  {
   "cell_type": "markdown",
   "metadata": {},
   "source": [
    "solve polynomials"
   ]
  },
  {
   "cell_type": "code",
   "execution_count": 6,
   "metadata": {},
   "outputs": [
    {
     "data": {
      "text/plain": [
       "[-1/2 - sqrt(7)*I/2, -1/2 + sqrt(7)*I/2]"
      ]
     },
     "execution_count": 6,
     "metadata": {},
     "output_type": "execute_result"
    }
   ],
   "source": [
    "from sympy import solve\n",
    "\n",
    "solve(x**2 + x + 2)"
   ]
  },
  {
   "cell_type": "markdown",
   "metadata": {},
   "source": [
    "and calculate limits, derivatives and integrals"
   ]
  },
  {
   "cell_type": "code",
   "execution_count": 7,
   "metadata": {},
   "outputs": [
    {
     "data": {
      "text/latex": [
       "$\\displaystyle \\infty$"
      ],
      "text/plain": [
       "oo"
      ]
     },
     "execution_count": 7,
     "metadata": {},
     "output_type": "execute_result"
    }
   ],
   "source": [
    "from sympy import limit, sin, diff\n",
    "\n",
    "limit(1 / x, x, 0)"
   ]
  },
  {
   "cell_type": "code",
   "execution_count": 8,
   "metadata": {},
   "outputs": [
    {
     "data": {
      "text/latex": [
       "$\\displaystyle 1$"
      ],
      "text/plain": [
       "1"
      ]
     },
     "execution_count": 8,
     "metadata": {},
     "output_type": "execute_result"
    }
   ],
   "source": [
    "limit(sin(x) / x, x, 0)"
   ]
  },
  {
   "cell_type": "code",
   "execution_count": 9,
   "metadata": {},
   "outputs": [
    {
     "data": {
      "text/latex": [
       "$\\displaystyle \\cos{\\left(x \\right)}$"
      ],
      "text/plain": [
       "cos(x)"
      ]
     },
     "execution_count": 9,
     "metadata": {},
     "output_type": "execute_result"
    }
   ],
   "source": [
    "diff(sin(x), x)"
   ]
  },
  {
   "cell_type": "markdown",
   "metadata": {},
   "source": [
    "The beauty of importing this functionality into Python is that we are\n",
    "working within a fully fledged programming language.\n",
    "\n",
    "We can easily create tables of derivatives, generate LaTeX output, add\n",
    "that output to figures and so on.\n",
    "\n",
    "### Statistics\n",
    "\n",
    "Python\\'s data manipulation and statistics libraries have improved\n",
    "rapidly over the last few years.\n",
    "\n",
    "#### Pandas\n",
    "\n",
    "One of the most popular libraries for working with data is\n",
    "[pandas](http://pandas.pydata.org/).\n",
    "\n",
    "Pandas is fast, efficient, flexible and well designed.\n",
    "\n",
    "Here\\'s a simple example, using some dummy data generated with Numpy\\'s\n",
    "excellent `random` functionality."
   ]
  },
  {
   "cell_type": "code",
   "execution_count": 10,
   "metadata": {},
   "outputs": [
    {
     "name": "stdout",
     "output_type": "stream",
     "text": [
      "               price    weight\n",
      "2010-12-28  0.471435 -1.190976\n",
      "2010-12-29  1.432707 -0.312652\n",
      "2010-12-30 -0.720589  0.887163\n",
      "2010-12-31  0.859588 -0.636524\n",
      "2011-01-01  0.015696 -2.242685\n"
     ]
    }
   ],
   "source": [
    "import pandas as pd\n",
    "np.random.seed(1234)\n",
    "\n",
    "data = np.random.randn(5, 2)  # 5x2 matrix of N(0, 1) random draws\n",
    "dates = pd.date_range('28/12/2010', periods=5)\n",
    "\n",
    "df = pd.DataFrame(data, columns=('price', 'weight'), index=dates)\n",
    "print(df)"
   ]
  },
  {
   "cell_type": "code",
   "execution_count": 11,
   "metadata": {},
   "outputs": [
    {
     "data": {
      "text/plain": [
       "price     0.411768\n",
       "weight   -0.699135\n",
       "dtype: float64"
      ]
     },
     "execution_count": 11,
     "metadata": {},
     "output_type": "execute_result"
    }
   ],
   "source": [
    "df.mean()"
   ]
  },
  {
   "cell_type": "markdown",
   "metadata": {},
   "source": [
    "#### Other Useful Statistics Libraries\n",
    "\n",
    "-   [statsmodels](http://statsmodels.sourceforge.net/) --- various\n",
    "    statistical routines\n",
    "\n",
    "-   [scikit-learn](http://scikit-learn.org/) --- machine learning in\n",
    "    Python (sponsored by Google, among others)\n",
    "\n",
    "-   [pyMC](http://pymc-devs.github.io/pymc/) --- for Bayesian data\n",
    "    analysis\n",
    "\n",
    "-   [pystan](https://pystan.readthedocs.org/en/latest/) Bayesian\n",
    "    analysis based on [stan](http://mc-stan.org/)\n",
    "\n",
    "### Networks and Graphs\n",
    "\n",
    "Python has many libraries for studying graphs.\n",
    "\n",
    "One well-known example is [NetworkX](http://networkx.github.io/). Its\n",
    "features include, among many other things:\n",
    "\n",
    "-   standard graph algorithms for analyzing networks\n",
    "-   plotting routines\n",
    "\n",
    "Here\\'s some example code that generates and plots a random graph, with\n",
    "node color determined by shortest path length from a central node."
   ]
  },
  {
   "cell_type": "code",
   "execution_count": 12,
   "metadata": {},
   "outputs": [
    {
     "data": {
      "image/png": "[encoded data removed]",
      "text/plain": [
       "<Figure size 432x288 with 1 Axes>"
      ]
     },
     "metadata": {
      "filenames": {
       "image/png": "/home/jubayer/Sites/quantecon-example/book/_build/jupyter_execute/python/about_py_20_0.png"
      }
     },
     "output_type": "display_data"
    }
   ],
   "source": [
    "import networkx as nx\n",
    "import matplotlib.pyplot as plt\n",
    "%matplotlib inline\n",
    "np.random.seed(1234)\n",
    "\n",
    "# Generate a random graph\n",
    "p = dict((i, (np.random.uniform(0, 1), np.random.uniform(0, 1)))\n",
    "         for i in range(200))\n",
    "g = nx.random_geometric_graph(200, 0.12, pos=p)\n",
    "pos = nx.get_node_attributes(g, 'pos')\n",
    "\n",
    "# Find node nearest the center point (0.5, 0.5)\n",
    "dists = [(x - 0.5)**2 + (y - 0.5)**2 for x, y in list(pos.values())]\n",
    "ncenter = np.argmin(dists)\n",
    "\n",
    "# Plot graph, coloring by path length from central node\n",
    "p = nx.single_source_shortest_path_length(g, ncenter)\n",
    "plt.figure()\n",
    "nx.draw_networkx_edges(g, pos, alpha=0.4)\n",
    "nx.draw_networkx_nodes(g,\n",
    "                       pos,\n",
    "                       nodelist=list(p.keys()),\n",
    "                       node_size=120, alpha=0.5,\n",
    "                       node_color=list(p.values()),\n",
    "                       cmap=plt.cm.jet_r)\n",
    "plt.show()"
   ]
  },
  {
   "cell_type": "markdown",
   "metadata": {},
   "source": [
    "### Cloud Computing\n",
    "\n",
    "Running your Python code on massive servers in the cloud is becoming\n",
    "easier and easier.\n",
    "\n",
    "A nice example is [Anaconda\n",
    "Enterprise](https://www.anaconda.com/enterprise/).\n",
    "\n",
    "See also\n",
    "\n",
    "-   [Amazon Elastic Compute Cloud](http://aws.amazon.com/ec2/)\n",
    "-   The [Google App Engine](https://cloud.google.com/appengine/)\n",
    "    (Python, Java, PHP or Go)\n",
    "-   [Pythonanywhere](https://www.pythonanywhere.com/)\n",
    "-   [Sagemath Cloud](https://cloud.sagemath.com/)\n",
    "\n",
    "### Parallel Processing\n",
    "\n",
    "Apart from the cloud computing options listed above, you might like to\n",
    "consider\n",
    "\n",
    "-   [Parallel computing through IPython\n",
    "    clusters](http://ipython.org/ipython-doc/stable/parallel/parallel_demos.html).\n",
    "-   The [Starcluster](http://star.mit.edu/cluster/) interface to\n",
    "    Amazon\\'s EC2.\n",
    "-   GPU programming through [PyCuda](https://wiki.tiker.net/PyCuda),\n",
    "    [PyOpenCL](https://mathema.tician.de/software/pyopencl/),\n",
    "    [Theano](http://deeplearning.net/software/theano/) or similar.\n",
    "\n",
    "(intfc)=\n",
    "\n",
    "### Other Developments\n",
    "\n",
    "There are many other interesting developments with scientific\n",
    "programming in Python.\n",
    "\n",
    "Some representative examples include\n",
    "\n",
    "-   [Jupyter](http://jupyter.org/) --- Python in your browser with\n",
    "    interactive code cells, embedded images and other useful features.\n",
    "-   [Numba](http://numba.pydata.org/) --- Make Python run at the same\n",
    "    speed as native machine code!\n",
    "-   [Blaze](http://blaze.pydata.org/) --- a generalization of NumPy.\n",
    "-   [PyTables](http://www.pytables.org) --- manage large data sets.\n",
    "-   [CVXPY](https://github.com/cvxgrp/cvxpy) --- convex optimization\n",
    "    in Python.\n",
    "\n",
    "## Learn More\n",
    "\n",
    "-   Browse some Python projects on\n",
    "    [GitHub](https://github.com/trending?l=python).\n",
    "-   Read more about [Python\\'s history and rise in\n",
    "    popularity](https://www.welcometothejungle.com/en/articles/btc-python-popular).\n",
    "-   Have a look at [some of the Jupyter\n",
    "    notebooks](http://nbviewer.jupyter.org/) people have shared on\n",
    "    various scientific topics.\n",
    "-   Visit the [Python Package Index](https://pypi.org/).\n",
    "-   View some of the questions people are asking about Python on\n",
    "    [Stackoverflow](http://stackoverflow.com/questions/tagged/python).\n",
    "-   Keep up to date on what\\'s happening in the Python community with\n",
    "    the [Python subreddit](https://www.reddit.com:443/r/Python/)."
   ]
  }
 ],
 "metadata": {
  "jupytext": {
   "text_representation": {
    "extension": ".md",
    "format_name": "myst"
   }
  },
  "kernelspec": {
   "display_name": "Python 3",
   "language": "python",
   "name": "python3"
  },
  "language_info": {
   "codemirror_mode": {
    "name": "ipython",
    "version": 3
   },
   "file_extension": ".py",
   "mimetype": "text/x-python",
   "name": "python",
   "nbconvert_exporter": "python",
   "pygments_lexer": "ipython3",
   "version": "3.7.8"
  },
  "source_map": [
   10,
   182,
   188,
   192,
   194,
   209,
   216,
   278,
   283,
   287,
   290,
   294,
   298,
   302,
   308,
   312,
   314,
   337,
   348,
   350,
   379,
   406
  ]
 },
 "nbformat": 4,
 "nbformat_minor": 4
}